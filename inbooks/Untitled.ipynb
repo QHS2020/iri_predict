{
 "cells": [
  {
   "cell_type": "code",
   "execution_count": 19,
   "id": "b0d7d508",
   "metadata": {},
   "outputs": [
    {
     "data": {
      "text/plain": [
       "'3.9.7 | packaged by conda-forge | (default, Sep 29 2021, 19:20:46) \\n[GCC 9.4.0]'"
      ]
     },
     "execution_count": 19,
     "metadata": {},
     "output_type": "execute_result"
    }
   ],
   "source": [
    "sys.version"
   ]
  },
  {
   "cell_type": "code",
   "execution_count": 28,
   "id": "655b01da",
   "metadata": {},
   "outputs": [],
   "source": [
    "import sys,os,pickle,copy\n",
    "import pandas as pd\n",
    "import matplotlib.pyplot as plt\n",
    "import numpy as np"
   ]
  },
  {
   "cell_type": "markdown",
   "id": "0f46cc06",
   "metadata": {},
   "source": [
    "# Define predict method"
   ]
  },
  {
   "cell_type": "code",
   "execution_count": 34,
   "id": "e5aa5126",
   "metadata": {},
   "outputs": [],
   "source": [
    "data = pd.DataFrame.from_dict({'Gator': {0: 4.313781936531054},\n",
    "                                'Longitudinal_wp': {0: 4.992986393969996},\n",
    "                                'Longitudinal_nwp': {0: 5.29793462202595},\n",
    "                                'Patch_area': {0: 0.5},\n",
    "                                'Patch_number': {0: 0.0},\n",
    "                                'Wp_length': {0: 15.01648977795672},\n",
    "                                'Transverse_length_gt183': {0: 0.0},\n",
    "                                'Rutting': {0: 5.859497287122277},\n",
    "                                'Friction': {0: 33.35714285714279},\n",
    "                                'Initial_IRI': {0: 0.77},\n",
    "                                'Bc_asphalt_layer_modulus': {0: 52.34346841470218},\n",
    "                                'Bc_friction_layer_modulus': {0: 71.51665246581324},\n",
    "                                'Hydraulic_conductivity': {0: 9945.68555849306},\n",
    "                                'Mon_precip_avg': {0: 41.802987352812906},\n",
    "                                'Freeze_index_avg': {0: 17.799766429557273},\n",
    "                                'Kesal': {0: 547.4040706749079},\n",
    "                                'Kesal_exp_2': {0: 299651.21659145947},\n",
    "                                'Age': {0: 4},\n",
    "                                'Asphalt_specific_gravity': {0: 1.022550151975684},\n",
    "                                'Aggregate_comp_percent': {0: 100.0},\n",
    "                                'LATERAL_DEVIATION': {0: 0.83},\n",
    "                                'SPEED': {0: 50},\n",
    "                                'SPACING': {0: 60}})\n",
    "\n",
    "def iri_predict(model, args = {'LATERAL_DEVIATION':0.83, 'SPEED':50, 'SPACING':60, 'Age':4, 'Initial_IRI':.77}, \\\n",
    "                args_data = copy.deepcopy(data)):\n",
    "    \"\"\"\n",
    "    \n",
    "    Callback\n",
    "    \n",
    "        new_iri = iri_predict(model, args = {'LATERAL_DEVIATION':0.83, 'SPEED':50, 'SPACING':60, 'Age':4, 'Initial_IRI':.77},)\n",
    "        \n",
    "    ---------------------------------------------\n",
    "    \n",
    "    @input: model\n",
    "    \n",
    "        the trained model of lightGBM.\n",
    "        \n",
    "        model = pickle.load(open(\"/home/jovyan/LateralSDE/codes/predict_iri/model.dat\", \"rb\"))\n",
    "    \n",
    "    \n",
    "    \"\"\"\n",
    "    \n",
    "    for arg_key in args.keys():\n",
    "        args_data.loc[0, arg_key] = args[arg_key]\n",
    "    \n",
    "    #\n",
    "    y_pred = model.predict(args_data)\n",
    "    \n",
    "    return y_pred[0]"
   ]
  },
  {
   "cell_type": "markdown",
   "id": "2e45cf77",
   "metadata": {},
   "source": [
    "# Load model"
   ]
  },
  {
   "cell_type": "code",
   "execution_count": 35,
   "id": "88a58158",
   "metadata": {},
   "outputs": [
    {
     "data": {
      "text/plain": [
       "LGBMRegressor(bagging_fraction=0.6, bagging_freq=0, feature_fraction=0.8,\n",
       "              lambda_l1=0.01, lambda_l2=0.01, learning_rate=0.015, max_bin=265,\n",
       "              max_depth=9, metrics='l1', min_data_in_leaf=0, min_split_gain=0,\n",
       "              n_estimators=10000, num_leaves=35, objective='regression')"
      ]
     },
     "execution_count": 35,
     "metadata": {},
     "output_type": "execute_result"
    }
   ],
   "source": [
    "ROOT = \"/home/jovyan/MISC/MISC/iri_predict/\"\n",
    "filee = ROOT + 'datas/predict_iri/model.dat'\n",
    "model = pickle.load(open(\"/home/jovyan/LateralSDE/codes/predict_iri/model.dat\", \"rb\"))\n",
    "model"
   ]
  },
  {
   "cell_type": "code",
   "execution_count": 37,
   "id": "988619e3",
   "metadata": {},
   "outputs": [
    {
     "data": {
      "text/plain": [
       "Text(0, 0.5, 'IRI')"
      ]
     },
     "execution_count": 37,
     "metadata": {},
     "output_type": "execute_result"
    },
    {
     "data": {
      "image/png": "[encoded data removed]",
      "text/plain": [
       "<Figure size 432x288 with 1 Axes>"
      ]
     },
     "metadata": {
      "needs_background": "light"
     },
     "output_type": "display_data"
    }
   ],
   "source": [
    "fig,ax = plt.subplots()\n",
    "#\n",
    "ages =  range(1, 20)\n",
    "#\n",
    "for LATERAL_DEVIATION in np.linspace(.05, .5, 10):\n",
    "    wandering_unit_m =  LATERAL_DEVIATION*39.37\n",
    "    ys = [iri_predict(model, {'Age':age, 'LATERAL_DEVIATION':wandering_unit_m}) for age in ages]\n",
    "    ax.plot(ages, ys, label = 'Lateral deviation = ' + str(wandering_unit_m) + ' m')\n",
    "ax.legend()\n",
    "ax.set_xlabel('Age')\n",
    "ax.set_ylabel('IRI')"
   ]
  },
  {
   "cell_type": "code",
   "execution_count": null,
   "id": "3227ea76",
   "metadata": {},
   "outputs": [],
   "source": []
  },
  {
   "cell_type": "code",
   "execution_count": null,
   "id": "7be75422",
   "metadata": {},
   "outputs": [],
   "source": []
  },
  {
   "cell_type": "code",
   "execution_count": null,
   "id": "f56ad8a4",
   "metadata": {},
   "outputs": [],
   "source": []
  }
 ],
 "metadata": {
  "kernelspec": {
   "display_name": "Python 3 (ipykernel)",
   "language": "python",
   "name": "python3"
  },
  "language_info": {
   "codemirror_mode": {
    "name": "ipython",
    "version": 3
   },
   "file_extension": ".py",
   "mimetype": "text/x-python",
   "name": "python",
   "nbconvert_exporter": "python",
   "pygments_lexer": "ipython3",
   "version": "3.9.7"
  }
 },
 "nbformat": 4,
 "nbformat_minor": 5
}
